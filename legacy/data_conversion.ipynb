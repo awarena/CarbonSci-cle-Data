{
 "cells": [
  {
   "cell_type": "code",
   "execution_count": 14,
   "metadata": {},
   "outputs": [],
   "source": [
    "import os\n",
    "import rasterio\n",
    "import pandas as pd\n",
    "import numpy as np\n",
    "from rasterio.features import dataset_features\n",
    "from rasterio.transform import Affine\n",
    "from rasterio.enums import Resampling\n"
   ]
  },
  {
   "cell_type": "code",
   "execution_count": 15,
   "metadata": {},
   "outputs": [],
   "source": [
    "# Function to extract data from a single GeoTIFF file and return as a DataFrame\n",
    "def tif_to_dataframe(tif_file):\n",
    "    \"\"\"\n",
    "    Extracts data from a single GeoTIFF file and returns it as a Pandas DataFrame.\n",
    "    \n",
    "    Parameters:\n",
    "        tif_file (str): The path to the GeoTIFF file.      \n",
    "        Returns: A dataframe corresponding to the GeoTIFF file.\n",
    "        \"\"\"\n",
    "    # Open the TIFF file\n",
    "    with rasterio.open(tif_file) as dataset:\n",
    "        # Get the number of bands\n",
    "        num_bands = dataset.count\n",
    "        print(f\"{tif_file} contains {num_bands} band(s).\")\n",
    "        \n",
    "        # Get the affine transform (to calculate the geographic coordinates)\n",
    "        transform = dataset.transform\n",
    "        \n",
    "        # Prepare lists to store coordinates and values\n",
    "        rows, cols = dataset.shape\n",
    "        data = []\n",
    "        \n",
    "        # Loop through each band in the TIFF file\n",
    "        for band_idx in range(1, num_bands + 1):\n",
    "            band = dataset.read(band_idx)\n",
    "            \n",
    "            # Loop through each pixel in the TIFF file\n",
    "            for row in range(rows):\n",
    "                for col in range(cols):\n",
    "                    # Get the geographic coordinates of the pixel\n",
    "                    x, y = transform * (col, row)\n",
    "                    value = band[row, col]\n",
    "                    \n",
    "                    # Store the coordinates, the band index, and the value if it's not masked\n",
    "                    if value != dataset.nodata:\n",
    "                        data.append([x, y, value, band_idx])\n",
    "        \n",
    "        # Convert the data into a Pandas DataFrame\n",
    "        df = pd.DataFrame(data, columns=['Longitude', 'Latitude', 'Value', 'Band'])\n",
    "    \n",
    "    return df\n"
   ]
  },
  {
   "cell_type": "code",
   "execution_count": 16,
   "metadata": {},
   "outputs": [],
   "source": [
    "# Function to loop over multiple TIFF files, convert them, and save as CSV\n",
    "def convert_all_tifs_to_csv(tif_dir, output_dest):\n",
    "    \"\"\"\n",
    "    Convert all TIFF files in a directory to CSV files.\n",
    "    Parameters:\n",
    "        tif_dir (str): The directory containing the TIFF files.\n",
    "        output_dir (str): The directory where the CSV files will be saved.\n",
    "    \"\"\"\n",
    "    month = 1\n",
    "    # Loop through each file in the directory\n",
    "    for tif_file in os.listdir(tif_dir):\n",
    "        if tif_file.endswith('.tif'):\n",
    "            # Get the full path of the tif file\n",
    "            full_path = os.path.join(folder_path, tif_file)\n",
    "            \n",
    "            # Convert the TIFF to a DataFrame\n",
    "            df = tif_to_dataframe(full_path)\n",
    "            df['month'] = month\n",
    "            month += 1\n",
    "            # Save the DataFrame to CSV (replace .tif with .csv in the output filename)\n",
    "            output_file = os.path.join(output_dir, f\"{os.path.splitext(tif_file)[0]}.csv\")\n",
    "            df.to_csv(output_file, index=False)\n",
    "            \n",
    "            print(f\"Converted {tif_file} to {output_file}\")"
   ]
  },
  {
   "cell_type": "code",
   "execution_count": 17,
   "metadata": {},
   "outputs": [],
   "source": [
    "tif_dir = r'C:\\Users\\nikis\\OneDrive\\StudyMat\\NASA_Space_App_Challenge\\data\\raw\\tif'\n",
    "output_dir = r'C:\\Users\\nikis\\OneDrive\\StudyMat\\NASA_Space_App_Challenge\\data\\raw\\csv'"
   ]
  },
  {
   "cell_type": "code",
   "execution_count": 18,
   "metadata": {},
   "outputs": [
    {
     "name": "stdout",
     "output_type": "stream",
     "text": [
      "co2\n",
      "C:\\Users\\nikis\\OneDrive\\StudyMat\\NASA_Space_App_Challenge\\data\\raw\\tif\\co2\\GRA2PESv1.0_total_CO2_202101.tif contains 1 band(s).\n",
      "Converted GRA2PESv1.0_total_CO2_202101.tif to C:\\Users\\nikis\\OneDrive\\StudyMat\\NASA_Space_App_Challenge\\data\\raw\\csv\\GRA2PESv1.0_total_CO2_202101.csv\n",
      "C:\\Users\\nikis\\OneDrive\\StudyMat\\NASA_Space_App_Challenge\\data\\raw\\tif\\co2\\GRA2PESv1.0_total_CO2_202102.tif contains 1 band(s).\n",
      "Unexpected exception formatting exception. Falling back to standard exception\n"
     ]
    },
    {
     "name": "stderr",
     "output_type": "stream",
     "text": [
      "Traceback (most recent call last):\n",
      "  File \"c:\\Users\\nikis\\anaconda3\\envs\\ai_dev\\lib\\site-packages\\IPython\\core\\interactiveshell.py\", line 3508, in run_code\n",
      "    exec(code_obj, self.user_global_ns, self.user_ns)\n",
      "  File \"C:\\Users\\nikis\\AppData\\Local\\Temp\\ipykernel_11352\\2601966968.py\", line 1, in <module>\n",
      "    convert_all_tifs_to_csv(tif_dir, output_dir)\n",
      "  File \"C:\\Users\\nikis\\AppData\\Local\\Temp\\ipykernel_11352\\658177339.py\", line 22, in convert_all_tifs_to_csv\n",
      "    df = tif_to_dataframe(full_path)\n",
      "  File \"C:\\Users\\nikis\\AppData\\Local\\Temp\\ipykernel_11352\\1235107753.py\", line -1, in tif_to_dataframe\n",
      "KeyboardInterrupt\n",
      "\n",
      "During handling of the above exception, another exception occurred:\n",
      "\n",
      "Traceback (most recent call last):\n",
      "  File \"c:\\Users\\nikis\\anaconda3\\envs\\ai_dev\\lib\\site-packages\\IPython\\core\\interactiveshell.py\", line 2105, in showtraceback\n",
      "    stb = self.InteractiveTB.structured_traceback(\n",
      "  File \"c:\\Users\\nikis\\anaconda3\\envs\\ai_dev\\lib\\site-packages\\IPython\\core\\ultratb.py\", line 1428, in structured_traceback\n",
      "    return FormattedTB.structured_traceback(\n",
      "  File \"c:\\Users\\nikis\\anaconda3\\envs\\ai_dev\\lib\\site-packages\\IPython\\core\\ultratb.py\", line 1319, in structured_traceback\n",
      "    return VerboseTB.structured_traceback(\n",
      "  File \"c:\\Users\\nikis\\anaconda3\\envs\\ai_dev\\lib\\site-packages\\IPython\\core\\ultratb.py\", line 1172, in structured_traceback\n",
      "    formatted_exception = self.format_exception_as_a_whole(etype, evalue, etb, number_of_lines_of_context,\n",
      "  File \"c:\\Users\\nikis\\anaconda3\\envs\\ai_dev\\lib\\site-packages\\IPython\\core\\ultratb.py\", line 1087, in format_exception_as_a_whole\n",
      "    frames.append(self.format_record(record))\n",
      "  File \"c:\\Users\\nikis\\anaconda3\\envs\\ai_dev\\lib\\site-packages\\IPython\\core\\ultratb.py\", line 969, in format_record\n",
      "    frame_info.lines, Colors, self.has_colors, lvals\n",
      "  File \"c:\\Users\\nikis\\anaconda3\\envs\\ai_dev\\lib\\site-packages\\IPython\\core\\ultratb.py\", line 792, in lines\n",
      "    return self._sd.lines\n",
      "  File \"c:\\Users\\nikis\\anaconda3\\envs\\ai_dev\\lib\\site-packages\\stack_data\\utils.py\", line 144, in cached_property_wrapper\n",
      "    value = obj.__dict__[self.func.__name__] = self.func(obj)\n",
      "  File \"c:\\Users\\nikis\\anaconda3\\envs\\ai_dev\\lib\\site-packages\\stack_data\\core.py\", line 734, in lines\n",
      "    pieces = self.included_pieces\n",
      "  File \"c:\\Users\\nikis\\anaconda3\\envs\\ai_dev\\lib\\site-packages\\stack_data\\utils.py\", line 144, in cached_property_wrapper\n",
      "    value = obj.__dict__[self.func.__name__] = self.func(obj)\n",
      "  File \"c:\\Users\\nikis\\anaconda3\\envs\\ai_dev\\lib\\site-packages\\stack_data\\core.py\", line 681, in included_pieces\n",
      "    pos = scope_pieces.index(self.executing_piece)\n",
      "  File \"c:\\Users\\nikis\\anaconda3\\envs\\ai_dev\\lib\\site-packages\\stack_data\\utils.py\", line 144, in cached_property_wrapper\n",
      "    value = obj.__dict__[self.func.__name__] = self.func(obj)\n",
      "  File \"c:\\Users\\nikis\\anaconda3\\envs\\ai_dev\\lib\\site-packages\\stack_data\\core.py\", line 660, in executing_piece\n",
      "    return only(\n",
      "  File \"c:\\Users\\nikis\\anaconda3\\envs\\ai_dev\\lib\\site-packages\\executing\\executing.py\", line 190, in only\n",
      "    raise NotOneValueFound('Expected one value, found 0')\n",
      "executing.executing.NotOneValueFound: Expected one value, found 0\n"
     ]
    }
   ],
   "source": [
    "convert_all_tifs_to_csv(tif_dir, output_dir)"
   ]
  }
 ],
 "metadata": {
  "kernelspec": {
   "display_name": "ai_dev",
   "language": "python",
   "name": "python3"
  },
  "language_info": {
   "codemirror_mode": {
    "name": "ipython",
    "version": 3
   },
   "file_extension": ".py",
   "mimetype": "text/x-python",
   "name": "python",
   "nbconvert_exporter": "python",
   "pygments_lexer": "ipython3",
   "version": "3.10.12"
  }
 },
 "nbformat": 4,
 "nbformat_minor": 2
}
