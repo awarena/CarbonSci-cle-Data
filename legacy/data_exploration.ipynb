{
 "cells": [
  {
   "cell_type": "code",
   "execution_count": 1,
   "metadata": {},
   "outputs": [],
   "source": [
    "import os\n",
    "import pandas as pd\n",
    "import numpy as np\n",
    "import matplotlib.pyplot as plt\n",
    "import seaborn as sns"
   ]
  },
  {
   "cell_type": "code",
   "execution_count": 11,
   "metadata": {},
   "outputs": [],
   "source": [
    "# Read all csv files from a specified directory into separate dataframes\n",
    "def read_csv_files(directory, format='csv'):\n",
    "    \"\"\"\n",
    "    Read all csv files from a specified directory into separate dataframes\\n\n",
    "    Parameters:\n",
    "        directory (str): The directory containing the csv files\n",
    "        format (str): The format of the files to read. Default is 'csv'\n",
    "    Returns (list): List of dataframes\n",
    "    \"\"\"\n",
    "    # Get all csv files in the specified directory\n",
    "    files = [f for f in os.listdir(directory) if f.endswith('.{format}'.format(format=format))]\n",
    "    # Read all csv files into separate dataframes\n",
    "    if format == 'csv':\n",
    "        dataframes = [pd.read_csv(os.path.join(directory, f)) for f in files]\n",
    "    elif format == 'xlsx':\n",
    "        dataframes = [pd.read_excel(os.path.join(directory, f)) for f in files]\n",
    "    else:\n",
    "        raise ValueError('Invalid file format. Only csv and xlsx files are supported')\n",
    "    return dataframes"
   ]
  },
  {
   "cell_type": "code",
   "execution_count": 7,
   "metadata": {},
   "outputs": [],
   "source": [
    "directory_path = r'C:\\Users\\nikis\\OneDrive\\StudyMat\\NASA_Space_App_Challenge\\data\\raw\\csv'\n",
    "dataframes = read_csv_files(directory_path, format='csv')"
   ]
  },
  {
   "cell_type": "code",
   "execution_count": null,
   "metadata": {},
   "outputs": [],
   "source": [
    "# Aggregate months of data into a single dataframe\n",
    "def merge_dataframes(dataframes, num_months=12):\n",
    "    \"\"\"\n",
    "    Aggregate months of data into a single dataframe\\n\n",
    "    Parameters:\n",
    "        dataframes (list): List of dataframes\n",
    "        num_months (int): Number of months to aggregate. Default is 12\n",
    "    Returns (DataFrame): Merged dataframe\n",
    "    \"\"\"\n",
    "    # Get the total number of rows in each dataframe\n",
    "    rows = [df.shape[0] for df in dataframes]\n",
    "    # Choose the dataframe with the least number of rows as the base dataframe\n",
    "    base_df = dataframes[np.argmin(rows)]\n",
    "    # Merge the rest of the dataframes into the base dataframe\n",
    "    for df in dataframes:\n",
    "        if not df.equals(base_df):\n",
    "            base_df = pd.merge(base_df, df['value'], how='inner', on='Date')\n",
    "    return base_df"
   ]
  }
 ],
 "metadata": {
  "kernelspec": {
   "display_name": "ai_dev",
   "language": "python",
   "name": "python3"
  },
  "language_info": {
   "codemirror_mode": {
    "name": "ipython",
    "version": 3
   },
   "file_extension": ".py",
   "mimetype": "text/x-python",
   "name": "python",
   "nbconvert_exporter": "python",
   "pygments_lexer": "ipython3",
   "version": "3.10.12"
  }
 },
 "nbformat": 4,
 "nbformat_minor": 2
}
