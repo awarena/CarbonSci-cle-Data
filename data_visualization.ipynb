{
 "cells": [
  {
   "cell_type": "code",
   "execution_count": 1,
   "metadata": {},
   "outputs": [],
   "source": [
    "import pandas as pd \n",
    "import numpy as np\n",
    "import matplotlib.pyplot as plt\n",
    "import seaborn as sns\n",
    "import os"
   ]
  },
  {
   "cell_type": "code",
   "execution_count": 2,
   "metadata": {},
   "outputs": [
    {
     "name": "stderr",
     "output_type": "stream",
     "text": [
      "C:\\Users\\Alex Hoang\\AppData\\Local\\Temp\\ipykernel_37516\\4108214428.py:2: DtypeWarning: Columns (20) have mixed types. Specify dtype option on import or set low_memory=False.\n",
      "  disaster_df = pd.read_csv(r'D:\\OneDrive\\StudyMat\\CarbonSci-cle-Data\\data\\raw\\disaster\\fema_disaster_with_noaa_monthly_temp_combined.csv')\n"
     ]
    }
   ],
   "source": [
    "# Load the disaster data\n",
    "disaster_df = pd.read_csv(r'D:\\OneDrive\\StudyMat\\CarbonSci-cle-Data\\data\\raw\\disaster\\fema_disaster_with_noaa_monthly_temp_combined.csv')"
   ]
  },
  {
   "cell_type": "code",
   "execution_count": 3,
   "metadata": {},
   "outputs": [],
   "source": [
    "# remove the rows with missing values\n",
    "disaster_df = disaster_df.drop(columns=['Unnamed: 0', 'last_ia_filing_date'])\n",
    "disaster_df = disaster_df.dropna()\n"
   ]
  },
  {
   "cell_type": "code",
   "execution_count": 4,
   "metadata": {},
   "outputs": [],
   "source": [
    "# Count total number of disaster events of each state per year based on the number of time the state appears that year\n",
    "# Ensure relevant columns are of the correct data type\n",
    "disaster_df['State'] = disaster_df['State'].astype(str)\n",
    "disaster_df['year'] = disaster_df['year'].astype(str)\n",
    "\n",
    "# Group by 'State' and 'year' and count the occurrences\n",
    "disaster_counts = disaster_df.groupby(['State', 'year']).size().reset_index(name='total_disasters')\n",
    "\n",
    "# Pivot the DataFrame to get the desired format\n",
    "pivot_df = disaster_counts.pivot(index='year', columns='State', values='total_disasters').fillna(0).astype(int)\n"
   ]
  },
  {
   "cell_type": "code",
   "execution_count": 45,
   "metadata": {},
   "outputs": [],
   "source": [
    "def plot_co2_and_disasters(co2_dir, pivot_df, output_dir, range):\n",
    "    \"\"\"\n",
    "    Plot the total CO2 emissions and disaster events per year for each state.\n",
    "    \n",
    "    Parameters:\n",
    "        co2_dir (str): Directory containing the CO2 emissions data files.\n",
    "        pivot_df (pd.DataFrame): Pivot table of disaster events data.\n",
    "        output_dir (str): Directory to save the generated plots.\n",
    "        range (tuple): Range of years to include in the plot.\n",
    "    \n",
    "    Returns:\"\"\"\n",
    "    for co2_file in os.listdir(co2_dir):\n",
    "        if co2_file.endswith('.csv'):\n",
    "            # Extract the state name from the CO2 emission file name\n",
    "            state_name = os.path.basename(co2_file).split('-')[0]\n",
    "            file_path = os.path.join(co2_dir, co2_file)\n",
    "            print(file_path)\n",
    "            # Load the CO2 emissions data\n",
    "            co2_df = pd.read_csv(file_path)\n",
    "\n",
    "            # Ensure the 'year' column is of the correct data type\n",
    "            co2_df['datetime'] = pd.to_datetime(co2_df['datetime'])\n",
    "            co2_df['year'] = co2_df['datetime'].dt.year.astype(int)\n",
    "\n",
    "            # Group by 'year' and sum the 'sum' column\n",
    "            co2_df = co2_df.groupby('year')['sum'].sum().reset_index(name='total_co2_emissions')\n",
    "\n",
    "            pivot_df.index = pivot_df.index.astype(int)\n",
    "            # Filter the pivot table to include only the years 2010 to 2021\n",
    "            pivot_df_filtered = pivot_df[(pivot_df.index >= range[0]) & (pivot_df.index <= range[1])]\n",
    "\n",
    "            # Merge the disaster events data with the CO2 emissions data\n",
    "            merged_df = pd.merge(co2_df, pivot_df_filtered, left_on='year', right_index=True, how='inner')\n",
    "\n",
    "            # Plot the data\n",
    "            fig, ax1 = plt.subplots(figsize=(14, 8))\n",
    "\n",
    "            # Plot CO2 emissions\n",
    "            ax1.set_xlabel('Year')\n",
    "            ax1.set_ylabel('CO2 Emissions (tonne CO₂/km²/year)', color='tab:blue')\n",
    "            ax1.set_xticks(merged_df['year'])\n",
    "            ax1.plot(merged_df['year'], merged_df['total_co2_emissions'], label=f'{state_name} CO2', color='tab:blue', linestyle='--', marker='o')\n",
    "            ax1.tick_params(axis='y', labelcolor='tab:blue')\n",
    "            ax1.yaxis.set_major_formatter(plt.FuncFormatter(lambda x, loc: \"{:,}\".format(int(x))))\n",
    "\n",
    "\n",
    "            # Create a second y-axis to plot disaster events\n",
    "            ax2 = ax1.twinx()\n",
    "            ax2.set_ylabel('Total Disasters', color='tab:red')\n",
    "            if state_name in pivot_df.columns:\n",
    "                ax2.plot(merged_df['year'], merged_df[state_name], label=f'{state_name} Disasters', color='tab:red', marker='o')\n",
    "            ax2.tick_params(axis='y', labelcolor='tab:red')\n",
    "\n",
    "            # Add legends\n",
    "            fig.tight_layout()\n",
    "            fig.legend(loc='upper left', bbox_to_anchor=(0.1, 0.9))\n",
    "\n",
    "            plt.title(f'Total CO2 Emissions and Disaster Events per Year in {state_name} ({range[0]}-{range[1]})')\n",
    "            plt.savefig(f'{output_dir}\\{state_name}_co2_disasters.png')\n",
    "            plt.show()\n",
    "\n",
    "            plt.close()"
   ]
  },
  {
   "cell_type": "code",
   "execution_count": 46,
   "metadata": {},
   "outputs": [
    {
     "ename": "TypeError",
     "evalue": "plot_co2_and_disasters() missing 1 required positional argument: 'range'",
     "output_type": "error",
     "traceback": [
      "\u001b[1;31m---------------------------------------------------------------------------\u001b[0m",
      "\u001b[1;31mTypeError\u001b[0m                                 Traceback (most recent call last)",
      "Input \u001b[1;32mIn [46]\u001b[0m, in \u001b[0;36m<cell line: 5>\u001b[1;34m()\u001b[0m\n\u001b[0;32m      2\u001b[0m output \u001b[38;5;241m=\u001b[39m \u001b[38;5;124mr\u001b[39m\u001b[38;5;124m'\u001b[39m\u001b[38;5;124mD:\u001b[39m\u001b[38;5;124m\\\u001b[39m\u001b[38;5;124mOneDrive\u001b[39m\u001b[38;5;124m\\\u001b[39m\u001b[38;5;124mStudyMat\u001b[39m\u001b[38;5;124m\\\u001b[39m\u001b[38;5;124mCarbonSci-cle-Data\u001b[39m\u001b[38;5;124m\\\u001b[39m\u001b[38;5;124mplot\u001b[39m\u001b[38;5;124m\\\u001b[39m\u001b[38;5;124mco2_disasters\u001b[39m\u001b[38;5;124m'\u001b[39m\n\u001b[0;32m      3\u001b[0m \u001b[38;5;28mrange\u001b[39m \u001b[38;5;241m=\u001b[39m (\u001b[38;5;241m2010\u001b[39m, \u001b[38;5;241m2021\u001b[39m)\n\u001b[1;32m----> 5\u001b[0m \u001b[43mplot_co2_and_disasters\u001b[49m\u001b[43m(\u001b[49m\u001b[43mco2_dir\u001b[49m\u001b[43m,\u001b[49m\u001b[43m \u001b[49m\u001b[43mpivot_df\u001b[49m\u001b[43m,\u001b[49m\u001b[43m \u001b[49m\u001b[43moutput\u001b[49m\u001b[43m)\u001b[49m\n",
      "\u001b[1;31mTypeError\u001b[0m: plot_co2_and_disasters() missing 1 required positional argument: 'range'"
     ]
    }
   ],
   "source": [
    "co2_dir = r'D:\\OneDrive\\StudyMat\\CarbonSci-cle-Data\\data\\raw\\co2\\total'\n",
    "output = r'D:\\OneDrive\\StudyMat\\CarbonSci-cle-Data\\plot\\co2_disasters'\n",
    "range = (2010, 2021)\n",
    "\n",
    "plot_co2_and_disasters(co2_dir, pivot_df, output, range)"
   ]
  }
 ],
 "metadata": {
  "kernelspec": {
   "display_name": "tf270",
   "language": "python",
   "name": "python3"
  },
  "language_info": {
   "codemirror_mode": {
    "name": "ipython",
    "version": 3
   },
   "file_extension": ".py",
   "mimetype": "text/x-python",
   "name": "python",
   "nbconvert_exporter": "python",
   "pygments_lexer": "ipython3",
   "version": "3.9.13"
  }
 },
 "nbformat": 4,
 "nbformat_minor": 2
}
