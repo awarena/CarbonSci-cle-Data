{
 "cells": [
  {
   "cell_type": "code",
   "execution_count": 1,
   "metadata": {},
   "outputs": [],
   "source": [
    "import pandas as pd \n",
    "import numpy as np\n",
    "import matplotlib.pyplot as plt\n",
    "import seaborn as sns\n",
    "import os"
   ]
  },
  {
   "cell_type": "code",
   "execution_count": 2,
   "metadata": {},
   "outputs": [
    {
     "name": "stderr",
     "output_type": "stream",
     "text": [
      "C:\\Users\\Alex Hoang\\AppData\\Local\\Temp\\ipykernel_37516\\4108214428.py:2: DtypeWarning: Columns (20) have mixed types. Specify dtype option on import or set low_memory=False.\n",
      "  disaster_df = pd.read_csv(r'D:\\OneDrive\\StudyMat\\CarbonSci-cle-Data\\data\\raw\\disaster\\fema_disaster_with_noaa_monthly_temp_combined.csv')\n"
     ]
    }
   ],
   "source": [
    "# Load the disaster data\n",
    "disaster_df = pd.read_csv(r'D:\\OneDrive\\StudyMat\\CarbonSci-cle-Data\\data\\raw\\disaster\\fema_disaster_with_noaa_monthly_temp_combined.csv')"
   ]
  },
  {
   "cell_type": "code",
   "execution_count": 3,
   "metadata": {},
   "outputs": [],
   "source": [
    "# remove the rows with missing values\n",
    "disaster_df = disaster_df.drop(columns=['Unnamed: 0', 'last_ia_filing_date'])\n",
    "disaster_df = disaster_df.dropna()\n"
   ]
  },
  {
   "cell_type": "code",
   "execution_count": 4,
   "metadata": {},
   "outputs": [],
   "source": [
    "# Count total number of disaster events of each state per year based on the number of time the state appears that year\n",
    "# Ensure relevant columns are of the correct data type\n",
    "disaster_df['State'] = disaster_df['State'].astype(str)\n",
    "disaster_df['year'] = disaster_df['year'].astype(str)\n",
    "\n",
    "# Group by 'State' and 'year' and count the occurrences\n",
    "disaster_counts = disaster_df.groupby(['State', 'year']).size().reset_index(name='total_disasters')\n",
    "\n",
    "# Pivot the DataFrame to get the desired format\n",
    "pivot_df = disaster_counts.pivot(index='year', columns='State', values='total_disasters').fillna(0).astype(int)\n"
   ]
  },
  {
   "cell_type": "code",
   "execution_count": null,
   "metadata": {},
   "outputs": [],
   "source": [
    "# Plot the total co2 emissions per year of each state and plot the total number of disaster events per year of each state corresponding to the co2 emissions\n",
    "def plot_save(disaster_df, co2_dir):\n",
    "    for file in os.listdir(co2_dir):\n",
    "        if file.endswith('.csv'):\n",
    "            co2_df = pd.read_csv(os.path.join(co2_dir, file))\n",
    "            co2_df = co2_df.dropna()\n",
    "            state = file.split('-')[0]\n",
    "            \n",
    "            co2_df['State'] = state\n",
    "            co2_df['datetime'] = pd.to_datetime(co2_df['datetime'])\n",
    "            co2_df['year'] = co2_df['datetime'].dt.year.astype(str)\n",
    "\n",
    "            co2_df = co2_df.groupby(['State', 'year'])['co2_emissions'].sum().reset_index(name='total_co2_emissions')\n",
    "            co2_pivot_df = co2_df.pivot(index='year', columns='State', values='total_co2_emissions').fillna(0).astype(int)\n",
    "            fig, ax = plt.subplots(2, 1, figsize=(15, 10))\n",
    "            sns.heatmap(co2_pivot_df, ax=ax[0], cmap='coolwarm', cbar_kws={'label': 'Total CO2 Emissions'})\n",
    "            sns.heatmap(pivot_df, ax=ax[1], cmap='coolwarm', cbar_kws={'label': 'Total Disasters'})\n",
    "            ax[0].set_title('Total CO2 Emissions per year of each state')\n",
    "            ax[1].set_title('Total number of disaster events per year of each state')\n",
    "            fig.suptitle('CO2 Emissions vs Disasters')\n",
    "            plt.tight_layout()\n",
    "            plt.savefig(f'{file[:-4]}_co2_vs_disasters.png')\n",
    "            plt.show()"
   ]
  }
 ],
 "metadata": {
  "kernelspec": {
   "display_name": "tf270",
   "language": "python",
   "name": "python3"
  },
  "language_info": {
   "codemirror_mode": {
    "name": "ipython",
    "version": 3
   },
   "file_extension": ".py",
   "mimetype": "text/x-python",
   "name": "python",
   "nbconvert_exporter": "python",
   "pygments_lexer": "ipython3",
   "version": "3.9.13"
  }
 },
 "nbformat": 4,
 "nbformat_minor": 2
}
